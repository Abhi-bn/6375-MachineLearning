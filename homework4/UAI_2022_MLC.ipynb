{
  "cells": [
    {
      "cell_type": "markdown",
      "metadata": {
        "id": "_R1vtKDBDIOK"
      },
      "source": [
        "# **UAI Competition 2022 - Example solver for the MLC task**"
      ]
    },
    {
      "cell_type": "markdown",
      "metadata": {
        "id": "TVSVdtCFTMiY"
      },
      "source": [
        "## **Part-1: Build solver**\n",
        "\n",
        "We will load the data and use it for building our solver"
      ]
    },
    {
      "cell_type": "markdown",
      "metadata": {
        "id": "QWn-iMN_TpNo"
      },
      "source": [
        "### Download data"
      ]
    },
    {
      "cell_type": "markdown",
      "metadata": {
        "id": "qqPV2lE5Ya8T"
      },
      "source": [
        "### Import libraries"
      ]
    },
    {
      "cell_type": "code",
      "execution_count": 2,
      "metadata": {
        "id": "DEpDEFDMLsKd"
      },
      "outputs": [],
      "source": [
        "import numpy as np\n",
        "from sklearn.model_selection import train_test_split\n",
        "from sklearn.multioutput import MultiOutputClassifier\n",
        "from sklearn.linear_model import LogisticRegression\n",
        "from sklearn.ensemble import RandomForestClassifier"
      ]
    },
    {
      "cell_type": "markdown",
      "metadata": {
        "id": "Yxkl02JyZslj"
      },
      "source": [
        "### Load data\n",
        "\n",
        "---\n",
        "\n",
        "The data consists of three sets of variables:\n",
        "\n",
        "1.   Evidence (observed) variables - X\n",
        "2.   Hidden variables - H\n",
        "3.   Query variables - Y\n",
        "\n",
        "\n",
        "The data loader class *Data* reads the data and partitions it accordingly. \n",
        "\n",
        "\n",
        "\n",
        "Helper functions:\n",
        "\n",
        "```convertToXY()```: This function returns (X, Y) from the .data file"
      ]
    },
    {
      "cell_type": "code",
      "execution_count": 4,
      "metadata": {
        "id": "uy62bNALLyf7"
      },
      "outputs": [],
      "source": [
        "class Data:\n",
        "  #fpath: File path of the .data file\n",
        "  \n",
        "  #self.evid_var_ids: Contains the indices of the observed variables\n",
        "  #self.query_var_ids: Contains the indices of the query variables\n",
        "  #self.hidden_var_ids: Contains the indices of the hidden variables\n",
        "  \n",
        "  #self.evid_assignments: Assignments to evid variables\n",
        "  #self.query_assignments: Assignments to query variables\n",
        "  #self.weights: Pr(e, q)\n",
        "  def __init__(self, fpath):\n",
        "\n",
        "    f = open(fpath, \"r\")\n",
        "    \n",
        "    self.nvars = int(f.readline()) #1\n",
        "    \n",
        "    line = np.asarray(f.readline().split(), dtype=np.int32)#2\n",
        "    self.evid_var_ids = line[1:]\n",
        "    evid_indices = range(1, self.evid_var_ids.shape[0]*2, 2)\n",
        "\n",
        "    line = np.asarray(f.readline().split(), dtype=np.int32) #3\n",
        "    self.query_var_ids = line[1:]\n",
        "    query_indices = range(self.evid_var_ids.shape[0]*2+1, (self.evid_var_ids.shape[0]+self.query_var_ids.shape[0])*2, 2)\n",
        "\n",
        "    line = np.asarray(f.readline().split(), dtype=np.int32)#4\n",
        "    self.hidden_var_ids = line[1:]\n",
        "    \n",
        "    line = f.readline()#5\n",
        "    self.nproblems = int(f.readline())#6\n",
        "    \n",
        "    self.evid_assignments = []\n",
        "    self.query_assignments = []\n",
        "    self.weights = []\n",
        "    for i in range(self.nproblems):\n",
        "      line = np.asarray(f.readline().split(), dtype=float)\n",
        "      self.evid_assignments.append(np.asarray(line[evid_indices], dtype=np.int32))\n",
        "      self.query_assignments.append(np.asarray(line[query_indices], dtype=np.int32))\n",
        "      self.weights.append(line[-1])\n",
        "    self.evid_assignments = np.asarray(self.evid_assignments)\n",
        "    self.query_assignments = np.asarray(self.query_assignments)\n",
        "    self.weights = np.asarray(self.weights)\n",
        "\n",
        "  def convertToXY(self):\n",
        "    return (self.evid_assignments, self.query_assignments)\n",
        "\n",
        "  def convertResults(self, query_predictions):\n",
        "    out = np.zeros((query_predictions.shape[0], 1+2*self.query_var_ids.shape[0]), dtype=int)\n",
        "    out[:, 2::2] = query_predictions[:, :]\n",
        "    out[:, 1::2] = self.query_var_ids\n",
        "    out[:, 0] = self.query_var_ids.shape[0]\n",
        "    return out"
      ]
    },
    {
      "cell_type": "code",
      "execution_count": 7,
      "metadata": {
        "id": "vYOl_RkzT9p9"
      },
      "outputs": [],
      "source": [
        "data_directory = '/content/MLC/'\n",
        "dname = 'Sample_3_MLC_2022'"
      ]
    },
    {
      "cell_type": "code",
      "execution_count": 8,
      "metadata": {
        "id": "a6NcNCm0AJ9c"
      },
      "outputs": [],
      "source": [
        "f =open(data_directory+dname+'.data','r')\n",
        "nvars = int(f.readline())\n",
        "line = np.asarray(f.readline().split(), dtype=np.int32)"
      ]
    },
    {
      "cell_type": "code",
      "execution_count": 9,
      "metadata": {
        "id": "_G2aqGmoB99E"
      },
      "outputs": [],
      "source": [
        "f =open(data_directory+dname+'.data','r')\n",
        "x=f.readlines()"
      ]
    },
    {
      "cell_type": "code",
      "execution_count": 10,
      "metadata": {
        "colab": {
          "base_uri": "https://localhost:8080/"
        },
        "id": "W7GmS93tB-Ak",
        "outputId": "f8ce7885-2337-4ccc-bdf2-b8ea13bd1c4e"
      },
      "outputs": [
        {
          "data": {
            "text/plain": [
              "10006"
            ]
          },
          "execution_count": 10,
          "metadata": {},
          "output_type": "execute_result"
        }
      ],
      "source": [
        "len(x)"
      ]
    },
    {
      "cell_type": "code",
      "execution_count": 11,
      "metadata": {
        "colab": {
          "base_uri": "https://localhost:8080/"
        },
        "id": "M925lKWmBYD9",
        "outputId": "b468980e-2f1e-4d5d-9ec6-583753fb11fd"
      },
      "outputs": [
        {
          "data": {
            "text/plain": [
              "(358,)"
            ]
          },
          "execution_count": 11,
          "metadata": {},
          "output_type": "execute_result"
        }
      ],
      "source": [
        "evid_var_ids = line[1:]\n",
        "evid_var_ids.shape"
      ]
    },
    {
      "cell_type": "code",
      "execution_count": 12,
      "metadata": {
        "id": "alGnO1bBZN0p"
      },
      "outputs": [],
      "source": [
        "data = Data(data_directory+dname+'.data')"
      ]
    },
    {
      "cell_type": "code",
      "execution_count": 14,
      "metadata": {
        "id": "Lr2JayJ9UGCp"
      },
      "outputs": [
        {
          "name": "stdout",
          "output_type": "stream",
          "text": [
            "358\n"
          ]
        }
      ],
      "source": [
        "#Getting Evidence and Query data into X, y\n",
        "\n",
        "X, y = data.convertToXY()\n",
        "X_train, X_test, y_train, y_test = train_test_split(X, y, test_size=0.33)\n",
        "print(len(X_train[0]))"
      ]
    },
    {
      "cell_type": "markdown",
      "metadata": {
        "id": "YhdKyxYIUhN_"
      },
      "source": [
        "### Train solver: Logistic Regression"
      ]
    },
    {
      "cell_type": "code",
      "execution_count": 15,
      "metadata": {
        "id": "Tzr_4Oc5UX62"
      },
      "outputs": [],
      "source": [
        "clf = MultiOutputClassifier(LogisticRegression(max_iter=1000)).fit(X_train, y_train)"
      ]
    },
    {
      "cell_type": "markdown",
      "metadata": {
        "id": "6in8mVhrknMZ"
      },
      "source": [
        "### Predict Query Assignments"
      ]
    },
    {
      "cell_type": "code",
      "execution_count": 16,
      "metadata": {
        "id": "1dMUoaapL0Oy"
      },
      "outputs": [],
      "source": [
        "y_pred = clf.predict(X_test)"
      ]
    },
    {
      "cell_type": "markdown",
      "metadata": {
        "id": "oqfPTsTbku9J"
      },
      "source": [
        "Store the query assignments in file - **Note this is the file to submit as the result**"
      ]
    },
    {
      "cell_type": "code",
      "execution_count": 17,
      "metadata": {
        "id": "0GQhpUOOlBVQ"
      },
      "outputs": [],
      "source": [
        "results_in_format = data.convertResults(y_pred)\n",
        "np.savetxt(X=results_in_format, delimiter=' ', fmt='%d', fname=data_directory+dname+'.pred')"
      ]
    },
    {
      "cell_type": "markdown",
      "metadata": {
        "id": "Pa68mTD6jFuG"
      },
      "source": [
        "$\\;\\;\\;\\;\\;\\;$"
      ]
    },
    {
      "cell_type": "markdown",
      "metadata": {
        "id": "PKLrFvuvjG2M"
      },
      "source": [
        "$\\;\\;\\;\\;\\;\\;$"
      ]
    },
    {
      "cell_type": "markdown",
      "metadata": {
        "id": "I6YeBmqWdrFe"
      },
      "source": [
        "\n",
        "\n",
        "\n",
        "\n",
        "\n",
        "## **Part-2: Test solver**\n",
        "\n",
        "Once we have trained the solver, we want to test how good it is.\n",
        "\n",
        "For a given evidence $E=e$, let $Q=\\widehat{q}$ denote the solver prediction and $Q=q$ denote the ground truth value.\n",
        "\n",
        "$$Err = log \\frac{\\prod_{i\\in Data} Pr(e^{(i)}, q^{(i)})}{\\prod_{i\\in Data} Pr(e^{(i)}, \\widehat{q}^{(i)})}$$\n",
        "\n",
        "Let $MaxErr$ denote the $Err$ for a trivial solver.\n",
        "Then,\n",
        "$$Score = max (0, 100(1-\\frac{Err}{MaxErr}))$$"
      ]
    },
    {
      "cell_type": "markdown",
      "metadata": {
        "id": "KYwtkkkbMpzL"
      },
      "source": [
        "### Using Random Forests as the trivial solver"
      ]
    },
    {
      "cell_type": "code",
      "execution_count": 83,
      "metadata": {
        "id": "T32FyEffMnn3"
      },
      "outputs": [],
      "source": [
        "clf = MultiOutputClassifier(RandomForestClassifier(n_estimators = 10, max_depth=2)).fit(X_train, y_train)"
      ]
    },
    {
      "cell_type": "code",
      "execution_count": 84,
      "metadata": {
        "id": "LCm11j87NSMq"
      },
      "outputs": [],
      "source": [
        "y_trivial = clf.predict(X_test)"
      ]
    },
    {
      "cell_type": "markdown",
      "metadata": {
        "id": "9giqhYkFjsMI"
      },
      "source": [
        "### Load Variable Elimination Code"
      ]
    },
    {
      "cell_type": "code",
      "execution_count": 23,
      "metadata": {
        "colab": {
          "base_uri": "https://localhost:8080/"
        },
        "id": "kc4JsEoALv5x",
        "outputId": "835bb9c6-6c44-44d3-d717-a434ec4bfd3b"
      },
      "outputs": [
        {
          "name": "stdout",
          "output_type": "stream",
          "text": [
            "Cloning into 'VEC'...\n",
            "remote: Enumerating objects: 111, done.\u001b[K\n",
            "remote: Counting objects: 100% (72/72), done.\u001b[K\n",
            "remote: Compressing objects: 100% (67/67), done.\u001b[K\n",
            "remote: Total 111 (delta 30), reused 8 (delta 2), pack-reused 39\n",
            "Receiving objects: 100% (111/111), 82.04 MiB | 1.23 MiB/s, done.\n",
            "Resolving deltas: 100% (37/37), done.\n"
          ]
        }
      ],
      "source": [
        "!git clone https://github.com/vkomaragiri/VEC.git"
      ]
    },
    {
      "cell_type": "code",
      "execution_count": 56,
      "metadata": {
        "colab": {
          "base_uri": "https://localhost:8080/"
        },
        "id": "FcgUiUE-PyqT",
        "outputId": "3b3a558a-b2ca-45c3-eba8-0e6723a5d64a"
      },
      "outputs": [
        {
          "name": "stdout",
          "output_type": "stream",
          "text": [
            "/home/abhinava/Multi-Class-Bayesian/VEC\n"
          ]
        }
      ],
      "source": [
        "cd ./VEC/"
      ]
    },
    {
      "cell_type": "code",
      "execution_count": 25,
      "metadata": {
        "colab": {
          "base_uri": "https://localhost:8080/"
        },
        "id": "en3ValXCBE-0",
        "outputId": "e88f3579-256d-464a-fe78-4efce43d99cd"
      },
      "outputs": [
        {
          "name": "stdout",
          "output_type": "stream",
          "text": [
            "Collecting igraph\n",
            "  Downloading igraph-0.10.2-cp38-cp38-manylinux_2_17_x86_64.manylinux2014_x86_64.whl (3.3 MB)\n",
            "\u001b[K     |████████████████████████████████| 3.3 MB 5.1 MB/s eta 0:00:01\n",
            "\u001b[?25hRequirement already satisfied: texttable>=1.6.2 in /home/abhinava/.local/lib/python3.8/site-packages (from igraph) (1.6.4)\n",
            "Installing collected packages: igraph\n",
            "Successfully installed igraph-0.10.2\n",
            "Collecting Cython\n",
            "  Downloading Cython-0.29.32-cp38-cp38-manylinux_2_17_x86_64.manylinux2014_x86_64.manylinux_2_24_x86_64.whl (1.9 MB)\n",
            "\u001b[K     |████████████████████████████████| 1.9 MB 610 kB/s eta 0:00:01\n",
            "\u001b[?25hInstalling collected packages: Cython\n",
            "Successfully installed Cython-0.29.32\n"
          ]
        }
      ],
      "source": [
        "!pip install igraph\n",
        "!pip install Cython"
      ]
    },
    {
      "cell_type": "code",
      "execution_count": 60,
      "metadata": {
        "colab": {
          "base_uri": "https://localhost:8080/"
        },
        "id": "z3zVDcieL9SB",
        "outputId": "3d4344af-8296-4f51-9367-43c97bacbf07"
      },
      "outputs": [],
      "source": [
        "!pip install .\n",
        "!cd ../../"
      ]
    },
    {
      "cell_type": "markdown",
      "metadata": {
        "id": "ly3moyt5rbq-"
      },
      "source": [
        "### Read the Markov network"
      ]
    },
    {
      "cell_type": "code",
      "execution_count": 76,
      "metadata": {
        "id": "syiNZvn2_YMu"
      },
      "outputs": [
        {
          "name": "stdout",
          "output_type": "stream",
          "text": [
            "/home/abhinava/Multi-Class-Bayesian\n"
          ]
        }
      ],
      "source": [
        "from MN import MN \n",
        "from BTP import BTP\n",
        "\n",
        "import os\n",
        "print(os.getcwd())\n",
        "mn = MN()\n",
        "mn.read(data_directory+dname+'.uai')"
      ]
    },
    {
      "cell_type": "markdown",
      "metadata": {
        "id": "zb1mIu43s0hl"
      },
      "source": [
        "Uncomment and run if you want to use min-fill ordering for Variable Elimination. Saving computed order in the .order file helps speed computation."
      ]
    },
    {
      "cell_type": "code",
      "execution_count": null,
      "metadata": {
        "id": "G740yHimsxNh"
      },
      "outputs": [],
      "source": [
        "#temp = BTP(mn)\n",
        "#temp.getOrder(2)\n",
        "#np.savetxt(X=np.asarray(temp.order), fname=data_directory+dname+'.order', delimiter=' ', fmt='%d')"
      ]
    },
    {
      "cell_type": "code",
      "execution_count": null,
      "metadata": {
        "id": "Cg0UJlezUVPs"
      },
      "outputs": [],
      "source": [
        "#order = np.loadtxt(data_directory+dname+'.order', delimiter=' ', dtype=np.int32)"
      ]
    },
    {
      "cell_type": "code",
      "execution_count": 81,
      "metadata": {
        "id": "DpBzmFp2AaLt"
      },
      "outputs": [],
      "source": [
        "order = np.asarray(np.arange(mn.nvars), dtype=np.int32)\n",
        "np.random.shuffle(order)"
      ]
    },
    {
      "cell_type": "markdown",
      "metadata": {
        "id": "JAA3idiftGan"
      },
      "source": [
        "### Compute $log_{10} Pr(X, y)$"
      ]
    },
    {
      "cell_type": "code",
      "execution_count": 77,
      "metadata": {
        "id": "enZPyoJSA94J"
      },
      "outputs": [],
      "source": [
        "def computeLogProb(X, y):\n",
        "  out = np.zeros(X.shape[0])\n",
        "  for i in range(X.shape[0]):\n",
        "    for j in range(X.shape[1]):\n",
        "      mn.setEvidence(data.evid_var_ids[j], X[i][j])\n",
        "    for j in range(y.shape[1]):\n",
        "      mn.setEvidence(data.query_var_ids[j], y[i][j])\n",
        "    btp = BTP(mn, order)\n",
        "    out[i] = np.log10(btp.getPR())\n",
        "  return out    "
      ]
    },
    {
      "cell_type": "markdown",
      "metadata": {
        "id": "o9IR3K6QGxn2"
      },
      "source": [
        "### Compute error and score"
      ]
    },
    {
      "cell_type": "code",
      "execution_count": 78,
      "metadata": {
        "id": "HZxpGXOaGwc3"
      },
      "outputs": [],
      "source": [
        "def computeErr(true_ll, pred_ll):\n",
        "  return np.sum(true_ll)-np.sum(pred_ll)"
      ]
    },
    {
      "cell_type": "code",
      "execution_count": 79,
      "metadata": {
        "id": "kkgW7ABNuSvM"
      },
      "outputs": [],
      "source": [
        "def computeScore(err, max_err):\n",
        "  return np.max((0, 100*(1.0-err/max_err)))"
      ]
    },
    {
      "cell_type": "code",
      "execution_count": 85,
      "metadata": {
        "id": "JJp48BPsT-PX"
      },
      "outputs": [],
      "source": [
        "y_pred = np.loadtxt(data_directory+dname+'.pred', dtype=int, delimiter=' ')[:, 1:][:, 1::2]\n",
        "ntest = 10\n",
        "lprob_true = computeLogProb(X_test[:ntest, :], y_test[:ntest, :])\n",
        "lprob_pred = computeLogProb(X_test[:ntest, :], y_pred[:ntest, :])\n",
        "lprob_trivial = computeLogProb(X_test[:ntest, :], y_trivial[:ntest, :])\n",
        "\n",
        "err = computeErr(lprob_true, lprob_pred)\n",
        "maxErr = computeErr(lprob_true, lprob_trivial)"
      ]
    },
    {
      "cell_type": "code",
      "execution_count": 86,
      "metadata": {
        "colab": {
          "base_uri": "https://localhost:8080/"
        },
        "id": "TQXbcwf0eriM",
        "outputId": "fcfaeeac-3f28-4165-e60f-84fb69a06707"
      },
      "outputs": [
        {
          "name": "stdout",
          "output_type": "stream",
          "text": [
            "0.039193449850017714 44.60461697045889\n"
          ]
        }
      ],
      "source": [
        "print(err, maxErr)"
      ]
    },
    {
      "cell_type": "code",
      "execution_count": 87,
      "metadata": {
        "colab": {
          "base_uri": "https://localhost:8080/"
        },
        "id": "p1XUB-ykxQxV",
        "outputId": "868db035-027e-4bf2-ba16-ce325bb04938"
      },
      "outputs": [
        {
          "name": "stdout",
          "output_type": "stream",
          "text": [
            "Score: 99.91213140586774\n"
          ]
        }
      ],
      "source": [
        "print(\"Score:\", computeScore(err, maxErr))"
      ]
    },
    {
      "cell_type": "code",
      "execution_count": 88,
      "metadata": {
        "colab": {
          "base_uri": "https://localhost:8080/"
        },
        "id": "9p0VAXeltXHv",
        "outputId": "d1ea5a83-2173-40eb-dc59-2afe09c497f2"
      },
      "outputs": [
        {
          "name": "stdout",
          "output_type": "stream",
          "text": [
            "0.039193449850017714 44.60461697045889\n"
          ]
        }
      ],
      "source": [
        "print(err, maxErr)"
      ]
    },
    {
      "cell_type": "code",
      "execution_count": null,
      "metadata": {
        "colab": {
          "base_uri": "https://localhost:8080/"
        },
        "id": "vRBBUQgrGMx9",
        "outputId": "67f10f1a-bc3b-4e4e-a6f7-f3b249caaddd"
      },
      "outputs": [
        {
          "name": "stdout",
          "output_type": "stream",
          "text": [
            "absl-py==1.3.0\n",
            "aeppl==0.0.33\n",
            "aesara==2.7.9\n",
            "aiohttp==3.8.3\n",
            "aiosignal==1.3.1\n",
            "alabaster==0.7.12\n",
            "albumentations==1.2.1\n",
            "altair==4.2.0\n",
            "appdirs==1.4.4\n",
            "arviz==0.12.1\n",
            "astor==0.8.1\n",
            "astropy==4.3.1\n",
            "astunparse==1.6.3\n",
            "async-timeout==4.0.2\n",
            "asynctest==0.13.0\n",
            "atari-py==0.2.9\n",
            "atomicwrites==1.4.1\n",
            "attrs==22.1.0\n",
            "audioread==3.0.0\n",
            "autograd==1.5\n",
            "Babel==2.11.0\n",
            "backcall==0.2.0\n",
            "beautifulsoup4==4.6.3\n",
            "bleach==5.0.1\n",
            "blis==0.7.9\n",
            "bokeh==2.3.3\n",
            "branca==0.6.0\n",
            "bs4==0.0.1\n",
            "CacheControl==0.12.11\n",
            "cached-property==1.5.2\n",
            "cachetools==5.2.0\n",
            "catalogue==2.0.8\n",
            "certifi==2022.9.24\n",
            "cffi==1.15.1\n",
            "cftime==1.6.2\n",
            "chardet==3.0.4\n",
            "charset-normalizer==2.1.1\n",
            "click==7.1.2\n",
            "clikit==0.6.2\n",
            "cloudpickle==1.5.0\n",
            "cmake==3.22.6\n",
            "cmdstanpy==1.0.8\n",
            "colorcet==3.0.1\n",
            "colorlover==0.3.0\n",
            "community==1.0.0b1\n",
            "confection==0.0.3\n",
            "cons==0.4.5\n",
            "contextlib2==0.5.5\n",
            "convertdate==2.4.0\n",
            "crashtest==0.3.1\n",
            "crcmod==1.7\n",
            "cufflinks==0.17.3\n",
            "cvxopt==1.3.0\n",
            "cvxpy==1.2.2\n",
            "cycler==0.11.0\n",
            "cymem==2.0.7\n",
            "Cython==0.29.32\n",
            "daft==0.0.4\n",
            "dask==2022.2.0\n",
            "datascience==0.17.5\n",
            "db-dtypes==1.0.4\n",
            "debugpy==1.0.0\n",
            "decorator==4.4.2\n",
            "defusedxml==0.7.1\n",
            "descartes==1.1.0\n",
            "dill==0.3.6\n",
            "distributed==2022.2.0\n",
            "dlib==19.24.0\n",
            "dm-tree==0.1.7\n",
            "dnspython==2.2.1\n",
            "docutils==0.17.1\n",
            "dopamine-rl==1.0.5\n",
            "earthengine-api==0.1.330\n",
            "easydict==1.10\n",
            "ecos==2.0.10\n",
            "editdistance==0.5.3\n",
            "en-core-web-sm @ https://github.com/explosion/spacy-models/releases/download/en_core_web_sm-3.4.1/en_core_web_sm-3.4.1-py3-none-any.whl\n",
            "entrypoints==0.4\n",
            "ephem==4.1.3\n",
            "et-xmlfile==1.1.0\n",
            "etils==0.9.0\n",
            "etuples==0.3.8\n",
            "fa2==0.3.5\n",
            "fastai==2.7.10\n",
            "fastcore==1.5.27\n",
            "fastdownload==0.0.7\n",
            "fastdtw==0.3.4\n",
            "fastjsonschema==2.16.2\n",
            "fastprogress==1.0.3\n",
            "fastrlock==0.8.1\n",
            "feather-format==0.4.1\n",
            "filelock==3.8.0\n",
            "firebase-admin==5.3.0\n",
            "fix-yahoo-finance==0.0.22\n",
            "Flask==1.1.4\n",
            "flatbuffers==1.12\n",
            "folium==0.12.1.post1\n",
            "frozenlist==1.3.3\n",
            "fsspec==2022.10.0\n",
            "future==0.16.0\n",
            "gast==0.4.0\n",
            "GDAL==2.2.2\n",
            "gdown==4.4.0\n",
            "gensim==3.6.0\n",
            "geographiclib==1.52\n",
            "geopy==1.17.0\n",
            "gin-config==0.5.0\n",
            "glob2==0.7\n",
            "google==2.0.3\n",
            "google-api-core==2.8.2\n",
            "google-api-python-client==1.12.11\n",
            "google-auth==2.14.1\n",
            "google-auth-httplib2==0.0.4\n",
            "google-auth-oauthlib==0.4.6\n",
            "google-cloud-bigquery==3.3.6\n",
            "google-cloud-bigquery-storage==2.16.2\n",
            "google-cloud-core==2.3.2\n",
            "google-cloud-datastore==2.9.0\n",
            "google-cloud-firestore==2.7.2\n",
            "google-cloud-language==2.6.1\n",
            "google-cloud-storage==2.5.0\n",
            "google-cloud-translate==3.8.4\n",
            "google-colab @ file:///colabtools/dist/google-colab-1.0.0.tar.gz\n",
            "google-crc32c==1.5.0\n",
            "google-pasta==0.2.0\n",
            "google-resumable-media==2.4.0\n",
            "googleapis-common-protos==1.56.4\n",
            "googledrivedownloader==0.4\n",
            "graphviz==0.10.1\n",
            "greenlet==2.0.1\n",
            "grpcio==1.50.0\n",
            "grpcio-status==1.48.2\n",
            "gspread==3.4.2\n",
            "gspread-dataframe==3.0.8\n",
            "gym==0.25.2\n",
            "gym-notices==0.0.8\n",
            "h5py==3.1.0\n",
            "HeapDict==1.0.1\n",
            "hijri-converter==2.2.4\n",
            "holidays==0.16\n",
            "holoviews==1.14.9\n",
            "html5lib==1.0.1\n",
            "httpimport==0.5.18\n",
            "httplib2==0.17.4\n",
            "httpstan==4.6.1\n",
            "humanize==0.5.1\n",
            "hyperopt==0.1.2\n",
            "idna==2.10\n",
            "igraph==0.10.2\n",
            "imageio==2.9.0\n",
            "imagesize==1.4.1\n",
            "imbalanced-learn==0.8.1\n",
            "imblearn==0.0\n",
            "imgaug==0.4.0\n",
            "importlib-metadata==4.13.0\n",
            "importlib-resources==5.10.0\n",
            "imutils==0.5.4\n",
            "inflect==2.1.0\n",
            "intel-openmp==2022.2.1\n",
            "intervaltree==2.1.0\n",
            "ipykernel==5.3.4\n",
            "ipython==7.9.0\n",
            "ipython-genutils==0.2.0\n",
            "ipython-sql==0.3.9\n",
            "ipywidgets==7.7.1\n",
            "itsdangerous==1.1.0\n",
            "jax==0.3.23\n",
            "jaxlib @ https://storage.googleapis.com/jax-releases/cuda11/jaxlib-0.3.22+cuda11.cudnn805-cp37-cp37m-manylinux2014_x86_64.whl\n",
            "jieba==0.42.1\n",
            "Jinja2==2.11.3\n",
            "joblib==1.2.0\n",
            "jpeg4py==0.1.4\n",
            "jsonschema==4.3.3\n",
            "jupyter-client==6.1.12\n",
            "jupyter-console==6.1.0\n",
            "jupyter-core==4.11.2\n",
            "jupyterlab-widgets==3.0.3\n",
            "kaggle==1.5.12\n",
            "kapre==0.3.7\n",
            "keras==2.9.0\n",
            "Keras-Preprocessing==1.1.2\n",
            "keras-vis==0.4.1\n",
            "kiwisolver==1.4.4\n",
            "korean-lunar-calendar==0.3.1\n",
            "langcodes==3.3.0\n",
            "libclang==14.0.6\n",
            "librosa==0.8.1\n",
            "lightgbm==2.2.3\n",
            "llvmlite==0.39.1\n",
            "lmdb==0.99\n",
            "locket==1.0.0\n",
            "logical-unification==0.4.5\n",
            "LunarCalendar==0.0.9\n",
            "lxml==4.9.1\n",
            "Markdown==3.4.1\n",
            "MarkupSafe==2.0.1\n",
            "marshmallow==3.18.0\n",
            "matplotlib==3.2.2\n",
            "matplotlib-venn==0.11.7\n",
            "miniKanren==1.0.3\n",
            "missingno==0.5.1\n",
            "mistune==0.8.4\n",
            "mizani==0.7.3\n",
            "mkl==2019.0\n",
            "mlxtend==0.14.0\n",
            "more-itertools==9.0.0\n",
            "moviepy==0.2.3.5\n",
            "mpmath==1.2.1\n",
            "msgpack==1.0.4\n",
            "multidict==6.0.2\n",
            "multipledispatch==0.6.0\n",
            "multitasking==0.0.11\n",
            "murmurhash==1.0.9\n",
            "music21==5.5.0\n",
            "natsort==5.5.0\n",
            "nbconvert==5.6.1\n",
            "nbformat==5.7.0\n",
            "netCDF4==1.6.1\n",
            "networkx==2.6.3\n",
            "nibabel==3.0.2\n",
            "nltk==3.7\n",
            "notebook==5.7.16\n",
            "numba==0.56.4\n",
            "numexpr==2.8.4\n",
            "numpy==1.21.6\n",
            "oauth2client==4.1.3\n",
            "oauthlib==3.2.2\n",
            "okgrade==0.4.3\n",
            "opencv-contrib-python==4.6.0.66\n",
            "opencv-python==4.6.0.66\n",
            "opencv-python-headless==4.6.0.66\n",
            "openpyxl==3.0.10\n",
            "opt-einsum==3.3.0\n",
            "osqp==0.6.2.post0\n",
            "packaging==21.3\n",
            "palettable==3.3.0\n",
            "pandas==1.3.5\n",
            "pandas-datareader==0.9.0\n",
            "pandas-gbq==0.17.9\n",
            "pandas-profiling==1.4.1\n",
            "pandocfilters==1.5.0\n",
            "panel==0.12.1\n",
            "param==1.12.2\n",
            "parso==0.8.3\n",
            "partd==1.3.0\n",
            "pastel==0.2.1\n",
            "pathlib==1.0.1\n",
            "pathy==0.6.2\n",
            "patsy==0.5.3\n",
            "pep517==0.13.0\n",
            "pexpect==4.8.0\n",
            "pickleshare==0.7.5\n",
            "Pillow==7.1.2\n",
            "pip-tools==6.2.0\n",
            "plotly==5.5.0\n",
            "plotnine==0.8.0\n",
            "pluggy==0.7.1\n",
            "pooch==1.6.0\n",
            "portpicker==1.3.9\n",
            "prefetch-generator==1.0.1\n",
            "preshed==3.0.8\n",
            "prettytable==3.5.0\n",
            "progressbar2==3.38.0\n",
            "prometheus-client==0.15.0\n",
            "promise==2.3\n",
            "prompt-toolkit==2.0.10\n",
            "prophet==1.1.1\n",
            "proto-plus==1.22.1\n",
            "protobuf==3.19.6\n",
            "psutil==5.4.8\n",
            "psycopg2==2.9.5\n",
            "ptyprocess==0.7.0\n",
            "py==1.11.0\n",
            "pyarrow==6.0.1\n",
            "pyasn1==0.4.8\n",
            "pyasn1-modules==0.2.8\n",
            "pycocotools==2.0.6\n",
            "pycparser==2.21\n",
            "pyct==0.4.8\n",
            "pydantic==1.10.2\n",
            "pydata-google-auth==1.4.0\n",
            "pydot==1.3.0\n",
            "pydot-ng==2.0.0\n",
            "pydotplus==2.0.2\n",
            "PyDrive==1.3.1\n",
            "pyemd==0.5.1\n",
            "pyerfa==2.0.0.1\n",
            "Pygments==2.6.1\n",
            "pygobject==3.26.1\n",
            "pylev==1.4.0\n",
            "pymc==4.1.4\n",
            "PyMeeus==0.5.11\n",
            "pymongo==4.3.2\n",
            "pymystem3==0.2.0\n",
            "PyOpenGL==3.1.6\n",
            "pyparsing==3.0.9\n",
            "pyrsistent==0.19.2\n",
            "pysimdjson==3.2.0\n",
            "pysndfile==1.3.8\n",
            "PySocks==1.7.1\n",
            "pystan==3.3.0\n",
            "pytest==3.6.4\n",
            "python-apt==0.0.0\n",
            "python-dateutil==2.8.2\n",
            "python-louvain==0.16\n",
            "python-slugify==6.1.2\n",
            "python-utils==3.4.5\n",
            "pytz==2022.6\n",
            "pyviz-comms==2.2.1\n",
            "PyWavelets==1.3.0\n",
            "PyYAML==6.0\n",
            "pyzmq==23.2.1\n",
            "qdldl==0.1.5.post2\n",
            "qudida==0.0.4\n",
            "regex==2022.6.2\n",
            "requests==2.23.0\n",
            "requests-oauthlib==1.3.1\n",
            "resampy==0.4.2\n",
            "rpy2==3.5.5\n",
            "rsa==4.9\n",
            "scikit-image==0.18.3\n",
            "scikit-learn==1.0.2\n",
            "scipy==1.7.3\n",
            "screen-resolution-extra==0.0.0\n",
            "scs==3.2.2\n",
            "seaborn==0.11.2\n",
            "Send2Trash==1.8.0\n",
            "setuptools-git==1.2\n",
            "Shapely==1.8.5.post1\n",
            "six==1.15.0\n",
            "sklearn-pandas==1.8.0\n",
            "smart-open==5.2.1\n",
            "snowballstemmer==2.2.0\n",
            "sortedcontainers==2.4.0\n",
            "soundfile==0.11.0\n",
            "spacy==3.4.2\n",
            "spacy-legacy==3.0.10\n",
            "spacy-loggers==1.0.3\n",
            "Sphinx==1.8.6\n",
            "sphinxcontrib-serializinghtml==1.1.5\n",
            "sphinxcontrib-websupport==1.2.4\n",
            "SQLAlchemy==1.4.43\n",
            "sqlparse==0.4.3\n",
            "srsly==2.4.5\n",
            "statsmodels==0.12.2\n",
            "sympy==1.7.1\n",
            "tables==3.7.0\n",
            "tabulate==0.8.10\n",
            "tblib==1.7.0\n",
            "tenacity==8.1.0\n",
            "tensorboard==2.9.1\n",
            "tensorboard-data-server==0.6.1\n",
            "tensorboard-plugin-wit==1.8.1\n",
            "tensorflow==2.9.2\n",
            "tensorflow-datasets==4.6.0\n",
            "tensorflow-estimator==2.9.0\n",
            "tensorflow-gcs-config==2.9.1\n",
            "tensorflow-hub==0.12.0\n",
            "tensorflow-io-gcs-filesystem==0.27.0\n",
            "tensorflow-metadata==1.10.0\n",
            "tensorflow-probability==0.17.0\n",
            "termcolor==2.1.0\n",
            "terminado==0.13.3\n",
            "testpath==0.6.0\n",
            "text-unidecode==1.3\n",
            "textblob==0.15.3\n",
            "texttable==1.6.4\n",
            "thinc==8.1.5\n",
            "threadpoolctl==3.1.0\n",
            "tifffile==2021.11.2\n",
            "toml==0.10.2\n",
            "tomli==2.0.1\n",
            "toolz==0.12.0\n",
            "torch @ https://download.pytorch.org/whl/cu113/torch-1.12.1%2Bcu113-cp37-cp37m-linux_x86_64.whl\n",
            "torchaudio @ https://download.pytorch.org/whl/cu113/torchaudio-0.12.1%2Bcu113-cp37-cp37m-linux_x86_64.whl\n",
            "torchsummary==1.5.1\n",
            "torchtext==0.13.1\n",
            "torchvision @ https://download.pytorch.org/whl/cu113/torchvision-0.13.1%2Bcu113-cp37-cp37m-linux_x86_64.whl\n",
            "tornado==6.0.4\n",
            "tqdm==4.64.1\n",
            "traitlets==5.1.1\n",
            "tweepy==3.10.0\n",
            "typeguard==2.7.1\n",
            "typer==0.4.2\n",
            "typing-extensions==4.1.1\n",
            "tzlocal==1.5.1\n",
            "uritemplate==3.0.1\n",
            "urllib3==1.24.3\n",
            "vega-datasets==0.9.0\n",
            "wasabi==0.10.1\n",
            "wcwidth==0.2.5\n",
            "webargs==8.2.0\n",
            "webencodings==0.5.1\n",
            "Werkzeug==1.0.1\n",
            "widgetsnbextension==3.6.1\n",
            "wordcloud==1.8.2.2\n",
            "wrapt==1.14.1\n",
            "xarray==0.20.2\n",
            "xarray-einstats==0.2.2\n",
            "xgboost==0.90\n",
            "xkit==0.0.0\n",
            "xlrd==1.1.0\n",
            "xlwt==1.3.0\n",
            "yarl==1.8.1\n",
            "yellowbrick==1.5\n",
            "zict==2.2.0\n",
            "zipp==3.10.0\n"
          ]
        }
      ],
      "source": [
        "!pip freeze"
      ]
    }
  ],
  "metadata": {
    "colab": {
      "provenance": []
    },
    "kernelspec": {
      "display_name": "Python 3.8.10 64-bit",
      "language": "python",
      "name": "python3"
    },
    "language_info": {
      "codemirror_mode": {
        "name": "ipython",
        "version": 3
      },
      "file_extension": ".py",
      "mimetype": "text/x-python",
      "name": "python",
      "nbconvert_exporter": "python",
      "pygments_lexer": "ipython3",
      "version": "3.8.10"
    },
    "vscode": {
      "interpreter": {
        "hash": "916dbcbb3f70747c44a77c7bcd40155683ae19c65e1c03b4aa3499c5328201f1"
      }
    }
  },
  "nbformat": 4,
  "nbformat_minor": 0
}
