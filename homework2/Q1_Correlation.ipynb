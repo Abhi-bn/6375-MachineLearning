{
  "cells": [
    {
      "cell_type": "code",
      "execution_count": 1,
      "metadata": {
        "id": "F83L_9BaLI1q"
      },
      "outputs": [],
      "source": [
        "import numpy as np\n",
        "import sklearn as sk\n",
        "from time import time\n",
        "from sklearn import metrics"
      ]
    },
    {
      "cell_type": "code",
      "execution_count": 2,
      "metadata": {
        "id": "scIQog_RLilT"
      },
      "outputs": [],
      "source": [
        "# Fetch Train and Test dataset\n",
        "train = np.genfromtxt(\"/content/drive/MyDrive/netflix/TrainingRatings.txt\", delimiter=\",\")\n",
        "test = np.genfromtxt(\"/content/drive/MyDrive/netflix/TestingRatings.txt\", delimiter=\",\")"
      ]
    },
    {
      "cell_type": "code",
      "execution_count": 3,
      "metadata": {
        "colab": {
          "base_uri": "https://localhost:8080/"
        },
        "id": "9pQtl_PMOw6F",
        "outputId": "8dc04941-a764-49ab-b43a-572374a544a1"
      },
      "outputs": [
        {
          "name": "stdout",
          "output_type": "stream",
          "text": [
            "(1821,)\n",
            "(27555,)\n",
            "(28978,)\n"
          ]
        }
      ],
      "source": [
        "# get all the unique movies and users from both test and train to create matrix\n",
        "uniqMovies = np.union1d(np.unique(train[:, 0]), np.unique(test[:, 0])).astype(int)\n",
        "print(uniqMovies.shape)\n",
        "testUsers = np.unique(test[:, 1].astype(int))\n",
        "trainUsers = np.unique(train[:, 1].astype(int))\n",
        "# uniqUsers = np.union1d(, np.unique(test[:, 1].astype(int))).astype(int)\n",
        "print(testUsers.shape)\n",
        "print(trainUsers.shape)"
      ]
    },
    {
      "cell_type": "code",
      "execution_count": 4,
      "metadata": {
        "colab": {
          "base_uri": "https://localhost:8080/"
        },
        "id": "2eRsHZa5PJip",
        "outputId": "ecda58b7-d425-4f51-b47f-156e009ecf41"
      },
      "outputs": [
        {
          "name": "stdout",
          "output_type": "stream",
          "text": [
            "27555\n"
          ]
        }
      ],
      "source": [
        "# get all the stored users i.e train users average ratings\n",
        "stored_user_avg_ratings = {}\n",
        "for movie_id, user_id, rating in train:\n",
        "    stored_user_avg_ratings.setdefault(int(user_id), [])\n",
        "    stored_user_avg_ratings[int(user_id)].append(rating)\n",
        "\n",
        "for user_id in stored_user_avg_ratings:\n",
        "    stored_user_avg_ratings[int(user_id)] = np.mean(stored_user_avg_ratings[int(user_id)])\n",
        "\n",
        "# get all the active users i.e test users average ratings\n",
        "active_user_avg_ratings = {}\n",
        "for movie_id, user_id, rating in test:\n",
        "    active_user_avg_ratings.setdefault(int(user_id), [])\n",
        "    active_user_avg_ratings[int(user_id)].append(rating)\n",
        "\n",
        "for user_id in active_user_avg_ratings:\n",
        "    active_user_avg_ratings[int(user_id)] = np.mean(active_user_avg_ratings[int(user_id)])\n",
        "print(len(active_user_avg_ratings))"
      ]
    },
    {
      "cell_type": "code",
      "execution_count": 5,
      "metadata": {
        "colab": {
          "base_uri": "https://localhost:8080/"
        },
        "id": "C1gGaXYlTsiy",
        "outputId": "bb8dc58c-1923-416d-8c5a-09340bbcad7d"
      },
      "outputs": [
        {
          "name": "stdout",
          "output_type": "stream",
          "text": [
            "(28978, 1821)\n",
            "(27555, 1821)\n"
          ]
        }
      ],
      "source": [
        "# create a matrix for stored users i.e Train m x n => (users x movies) => (28978 x 1821)\n",
        "# FOR CRYING OUT LOUD USE FLOAT32 EVERYWHERE\n",
        "stored_mappings = np.zeros((trainUsers.shape[0],uniqMovies.shape[0]), dtype='f')\n",
        "for movie_id, user_id, rating in train:\n",
        "  movInd = np.where(uniqMovies == int(movie_id))[0][0]\n",
        "  userInd = np.where(trainUsers == int(user_id))[0][0]\n",
        "  stored_mappings[userInd, movInd] = rating - stored_user_avg_ratings[int(user_id)]\n",
        "print(stored_mappings.shape)\n",
        "\n",
        "# create a matrix for active users i.e Test m x n => (users x movies) => (28978 x 1821)\n",
        "active_mappings = np.zeros((testUsers.shape[0],uniqMovies.shape[0]), dtype='f')\n",
        "for movie_id, user_id, rating in test:\n",
        "  movInd = np.where(uniqMovies == int(movie_id))[0][0]\n",
        "  userInd = np.where(testUsers == int(user_id))[0][0]\n",
        "  active_mappings[userInd, movInd] = rating - active_user_avg_ratings[int(user_id)]\n",
        "print(active_mappings.shape)"
      ]
    },
    {
      "cell_type": "code",
      "execution_count": 6,
      "metadata": {
        "colab": {
          "base_uri": "https://localhost:8080/"
        },
        "id": "HN4amspGcuj6",
        "outputId": "94742c21-cbe3-42f9-e30e-97db300fd7f9"
      },
      "outputs": [
        {
          "name": "stdout",
          "output_type": "stream",
          "text": [
            "(28978, 27555)\n"
          ]
        }
      ],
      "source": [
        "# from sklearn.metrics.pairwise import pairwise_distances\n",
        "# from scipy.spatial.distance import correlation\n",
        "# # FOR CRYING OUT LOUD USE FLOAT32 EVERYWHERE\n",
        "# weight = pairwise_distances(stored_mappings, active_mappings, metric='correlation', dtype='f') \n",
        "# print(weight.shape)\n",
        "\n",
        "# FOR CRYING OUT LOUD USE FLOAT32 EVERYWHERE\n",
        "weight = np.matmul(stored_mappings, active_mappings.T,dtype='f')\n",
        "print(weight.shape)"
      ]
    },
    {
      "cell_type": "code",
      "execution_count": 7,
      "metadata": {
        "id": "0fJIxvG4tKs7"
      },
      "outputs": [],
      "source": [
        "# working out the denominator\n",
        "stored_square = stored_mappings ** 2\n",
        "active_square = active_mappings ** 2"
      ]
    },
    {
      "cell_type": "code",
      "execution_count": 8,
      "metadata": {
        "colab": {
          "base_uri": "https://localhost:8080/"
        },
        "id": "ZL4n-FaketyU",
        "outputId": "4018fcaf-4330-4a0f-8d0e-53a9b93b8f03"
      },
      "outputs": [
        {
          "name": "stdout",
          "output_type": "stream",
          "text": [
            "stored_sum:  (28978, 1)\n",
            "active_sum:  (27555, 1)\n",
            "[[ 0.       13.786839 13.786839 ...  0.       16.478424 15.91967 ]\n",
            " [ 0.       13.081248 13.081248 ...  0.       15.635082 15.104924]\n",
            " [ 0.        8.458682  8.458682 ...  0.       10.110059  9.767244]\n",
            " ...\n",
            " [ 0.       12.641102 12.641102 ...  0.       15.109007 14.596687]\n",
            " [ 0.       12.978616 12.978616 ...  0.       15.512413 14.986415]\n",
            " [ 0.       14.557579 14.557579 ...  0.       17.399635 16.809645]]\n"
          ]
        }
      ],
      "source": [
        "# sum all the squares \n",
        "stored_sum = stored_square.sum(axis=1)[:, np.newaxis]\n",
        "active_sum = active_square.sum(axis=1)[:, np.newaxis]\n",
        "print(\"stored_sum: \", stored_sum.shape)\n",
        "print(\"active_sum: \", active_sum.shape)\n",
        "# print(stored_sum.shape, active_sum.shape)\n",
        "each_row_sqrt = np.sqrt(np.matmul(stored_sum, active_sum.T))\n",
        "print(each_row_sqrt)"
      ]
    },
    {
      "cell_type": "code",
      "execution_count": 9,
      "metadata": {
        "colab": {
          "base_uri": "https://localhost:8080/"
        },
        "id": "_dZPn77YiQC5",
        "outputId": "ee84a3c9-f7a5-4b29-c5ae-db497b048b3a"
      },
      "outputs": [
        {
          "name": "stdout",
          "output_type": "stream",
          "text": [
            "(28978, 27555)\n"
          ]
        },
        {
          "name": "stderr",
          "output_type": "stream",
          "text": [
            "/usr/local/lib/python3.7/dist-packages/ipykernel_launcher.py:2: RuntimeWarning: invalid value encountered in true_divide\n",
            "  \n"
          ]
        }
      ],
      "source": [
        "# all weights\n",
        "weight = np.divide(weight, each_row_sqrt, dtype='f')\n",
        "print(weight.shape)\n",
        "del each_row_sqrt"
      ]
    },
    {
      "cell_type": "code",
      "execution_count": 10,
      "metadata": {
        "id": "nEdvEUWducUK"
      },
      "outputs": [],
      "source": [
        "users_avg_ratings = [0.0] * trainUsers.shape[0]\n",
        "for stored in stored_user_avg_ratings:\n",
        "  userInd = np.where(trainUsers == int(user_id))[0][0]\n",
        "  users_avg_ratings[userInd] = stored_user_avg_ratings[stored]"
      ]
    },
    {
      "cell_type": "code",
      "execution_count": 11,
      "metadata": {
        "id": "ASYU_luI0OFQ"
      },
      "outputs": [],
      "source": [
        "weight = np.nan_to_num(weight, False)\n",
        "ENABLE_CASE_AMPLIFICATION = False\n",
        "if ENABLE_CASE_AMPLIFICATION:\n",
        "  for row in range(weight.shape[0]):\n",
        "    weight[row, :] = np.where(weight[row, :] >=0, np.power(weight[row, :], 2.5), -np.power(-weight[row, :], 2.5))"
      ]
    },
    {
      "cell_type": "code",
      "execution_count": 12,
      "metadata": {
        "colab": {
          "base_uri": "https://localhost:8080/"
        },
        "id": "RsT8Bh5SSc7n",
        "outputId": "98845d24-fe75-41ba-b18c-afaa7b5b3874"
      },
      "outputs": [
        {
          "name": "stderr",
          "output_type": "stream",
          "text": [
            "/usr/local/lib/python3.7/dist-packages/ipykernel_launcher.py:6: RuntimeWarning: invalid value encountered in double_scalars\n",
            "  \n"
          ]
        }
      ],
      "source": [
        "y_pred = []\n",
        "y_true = []\n",
        "for i, (movie_id, user_id, rating) in enumerate(test):\n",
        "    userInd = np.where(testUsers == int(user_id))[0][0]\n",
        "    movInd = np.where(uniqMovies == int(movie_id))[0][0]\n",
        "    from_stored = np.sum(weight[:, userInd] * users_avg_ratings) / np.sum(np.abs(weight[:, userInd]))\n",
        "    if np.isnan(from_stored):\n",
        "        from_stored = 0\n",
        "    prob = active_user_avg_ratings[int(user_id)] + from_stored\n",
        "\n",
        "    y_pred.append(prob)\n",
        "    y_true.append(rating)"
      ]
    },
    {
      "cell_type": "code",
      "execution_count": 13,
      "metadata": {
        "colab": {
          "base_uri": "https://localhost:8080/"
        },
        "id": "sPEWpp0sCRsu",
        "outputId": "66a586e3-44e4-4e73-fb6b-5f63cf24271b"
      },
      "outputs": [
        {
          "name": "stdout",
          "output_type": "stream",
          "text": [
            "47.77662771950079\n",
            "0.7031268691066797\n",
            "0.6388055448889984\n",
            "[[  602  2001  2385   367     1]\n",
            " [   48  2745  6884  1768     2]\n",
            " [   23  2003 19228 11120    86]\n",
            " [    4   594 10004 20350  1144]\n",
            " [    3   118  2716 11202  5080]]\n"
          ]
        }
      ],
      "source": [
        "print(metrics.accuracy_score(y_true,[round(y) for y in y_pred]) * 100)\n",
        "print(metrics.mean_squared_error(y_true,y_pred))\n",
        "print(metrics.mean_absolute_error(y_true,y_pred))\n",
        "print(metrics.confusion_matrix(y_true, [round(y) for y in y_pred], labels=[1, 2, 3, 4, 5]))"
      ]
    },
    {
      "cell_type": "code",
      "execution_count": 14,
      "metadata": {
        "colab": {
          "base_uri": "https://localhost:8080/",
          "height": 279
        },
        "id": "pk_WRMLl2gHb",
        "outputId": "9e8846fd-ae9c-47d9-feca-41db8dd53582"
      },
      "outputs": [
        {
          "data": {
            "image/png": "[encoded data removed]",
            "text/plain": [
              "<Figure size 432x288 with 1 Axes>"
            ]
          },
          "metadata": {
            "needs_background": "light"
          },
          "output_type": "display_data"
        }
      ],
      "source": [
        "from sklearn.metrics import ConfusionMatrixDisplay\n",
        "import matplotlib.pyplot as plt\n",
        "cm = metrics.confusion_matrix(y_true, [round(y) for y in y_pred], labels=[1, 2, 3, 4, 5])\n",
        "disp = ConfusionMatrixDisplay(confusion_matrix=cm, display_labels=[1, 2, 3, 4, 5])\n",
        "disp.plot(colorbar=False)\n",
        "plt.show()"
      ]
    }
  ],
  "metadata": {
    "colab": {
      "collapsed_sections": [],
      "provenance": []
    },
    "kernelspec": {
      "display_name": "Python 3.8.10 64-bit",
      "language": "python",
      "name": "python3"
    },
    "language_info": {
      "name": "python",
      "version": "3.8.10"
    },
    "vscode": {
      "interpreter": {
        "hash": "916dbcbb3f70747c44a77c7bcd40155683ae19c65e1c03b4aa3499c5328201f1"
      }
    }
  },
  "nbformat": 4,
  "nbformat_minor": 0
}
