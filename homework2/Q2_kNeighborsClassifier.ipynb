{
  "cells": [
    {
      "cell_type": "code",
      "execution_count": 2,
      "metadata": {
        "id": "2iCKL5euN4k8"
      },
      "outputs": [],
      "source": [
        "from sklearn.datasets import fetch_openml\n",
        "from sklearn.neighbors import KNeighborsClassifier\n",
        "from joblib import Parallel, delayed"
      ]
    },
    {
      "cell_type": "code",
      "execution_count": 3,
      "metadata": {
        "id": "BZFuEwbHN9Gl"
      },
      "outputs": [],
      "source": [
        "# Load data from https://www.openml.org/d/554\n",
        "X, y = fetch_openml('mnist_784', version=1, return_X_y=True)\n",
        "X = X / 255.0"
      ]
    },
    {
      "cell_type": "code",
      "execution_count": 4,
      "metadata": {
        "id": "-1V0CdbGOFHA"
      },
      "outputs": [],
      "source": [
        "# rescale the data, use the traditional train/test split\n",
        "# (60K: Train) and (10K: Test)\n",
        "X_train, X_test = X[:60000], X[60000:]\n",
        "y_train, y_test = y[:60000], y[60000:]"
      ]
    },
    {
      "cell_type": "markdown",
      "metadata": {
        "id": "lMMddWbbO0Sr"
      },
      "source": [
        "# Parameters\n",
        "\n",
        "### Neighbours (3 parameters)\n",
        "1. n_neighbors = 3\n",
        "2. n_neighbors = 5\n",
        "3. n_neighbors = 7\n",
        "\n",
        "\n",
        "### Weights function used for perdiction (2 parameters taken)\n",
        "1. ‘uniform’ : uniform weights. All points in each neighborhood are weighted equally.\n",
        "2. ‘distance’ : weight points by the inverse of their distance. in this case, closer neighbors of a query point will have a greater influence than neighbors which are further away.\n",
        "\n",
        "### Algorithm used to compute NN (Just 3 taken as auto basically selects one of the 3)\n",
        "\n",
        "1. ‘ball_tree’ will use BallTree\n",
        "2. ‘kd_tree’ will use KDTree\n",
        "3. ‘brute’ will use a brute-force search.\n",
        "4. ‘auto’ will attempt to decide the most appropriate algorithm based on the values passed to fit method.\n",
        "\n",
        "Note: fitting on sparse input will override the setting of this parameter, using brute force.\n",
        "\n",
        "### p values p = 1 manhattan_distance and p = 2 euclidean_distance (2 parameters)\n",
        "1. p = 1\n",
        "2. p = 2\n",
        "\n",
        "### leaf size, this parameters will only affect if we select KDTree Algo (will do this if I have time)\n",
        "1. Leaf size = 30\n",
        "2. Leaf size = 50\n",
        "3. Leaf size  = 100\n"
      ]
    },
    {
      "cell_type": "code",
      "execution_count": 5,
      "metadata": {
        "colab": {
          "base_uri": "https://localhost:8080/"
        },
        "id": "wRvao_7LOh6V",
        "outputId": "02f94643-026d-4690-8995-3e40645effe5"
      },
      "outputs": [
        {
          "name": "stdout",
          "output_type": "stream",
          "text": [
            "0.036699999999999955\n"
          ]
        }
      ],
      "source": [
        "# Doing each parameters in single code block just in case I screw something up\n",
        "neigh3uniform1kdtree = KNeighborsClassifier(n_neighbors=3, weights='uniform', p=1, algorithm='kd_tree', n_jobs=-1)\n",
        "neigh3uniform1kdtree.fit(X_train, y_train)\n",
        "print(1.0 - neigh3uniform1kdtree.score(X_test, y_test))"
      ]
    },
    {
      "cell_type": "code",
      "execution_count": 45,
      "metadata": {
        "colab": {
          "base_uri": "https://localhost:8080/",
          "height": 217
        },
        "id": "H1yLN0WNSddp",
        "outputId": "deb34209-d707-4e0c-a1c3-6f4c46b8e6fe"
      },
      "outputs": [
        {
          "name": "stdout",
          "output_type": "stream",
          "text": [
            "0.03820000000000001\n"
          ]
        },
        {
          "ename": "TypeError",
          "evalue": "ignored",
          "output_type": "error",
          "traceback": [
            "\u001b[0;31m---------------------------------------------------------------------------\u001b[0m",
            "\u001b[0;31mTypeError\u001b[0m                                 Traceback (most recent call last)",
            "\u001b[0;32m<ipython-input-45-c15c7a729c60>\u001b[0m in \u001b[0;36m<module>\u001b[0;34m\u001b[0m\n\u001b[1;32m      3\u001b[0m \u001b[0mneigh3uniform1kdtree\u001b[0m\u001b[0;34m.\u001b[0m\u001b[0mfit\u001b[0m\u001b[0;34m(\u001b[0m\u001b[0mX_train\u001b[0m\u001b[0;34m,\u001b[0m \u001b[0my_train\u001b[0m\u001b[0;34m)\u001b[0m\u001b[0;34m\u001b[0m\u001b[0;34m\u001b[0m\u001b[0m\n\u001b[1;32m      4\u001b[0m \u001b[0mprint\u001b[0m\u001b[0;34m(\u001b[0m\u001b[0;36m1.0\u001b[0m \u001b[0;34m-\u001b[0m \u001b[0mneigh3uniform1kdtree\u001b[0m\u001b[0;34m.\u001b[0m\u001b[0mscore\u001b[0m\u001b[0;34m(\u001b[0m\u001b[0mX_test\u001b[0m\u001b[0;34m,\u001b[0m \u001b[0my_test\u001b[0m\u001b[0;34m)\u001b[0m\u001b[0;34m)\u001b[0m\u001b[0;34m\u001b[0m\u001b[0;34m\u001b[0m\u001b[0m\n\u001b[0;32m----> 5\u001b[0;31m \u001b[0mParallel\u001b[0m\u001b[0;34m(\u001b[0m\u001b[0mn_jobs\u001b[0m\u001b[0;34m=\u001b[0m\u001b[0;34m-\u001b[0m\u001b[0;36m1\u001b[0m\u001b[0;34m)\u001b[0m\u001b[0;34m(\u001b[0m\u001b[0;34m)\u001b[0m\u001b[0;34m\u001b[0m\u001b[0;34m\u001b[0m\u001b[0m\n\u001b[0m",
            "\u001b[0;31mTypeError\u001b[0m: __call__() missing 1 required positional argument: 'iterable'"
          ]
        }
      ],
      "source": [
        "# Doing each parameters in single code block just in case I screw something up\n",
        "neigh3uniform1kdtree = KNeighborsClassifier(n_neighbors=5, weights='uniform', p=1, algorithm='kd_tree', n_jobs=-1)\n",
        "neigh3uniform1kdtree.fit(X_train, y_train)\n",
        "print(1.0 - neigh3uniform1kdtree.score(X_test, y_test))"
      ]
    },
    {
      "cell_type": "code",
      "execution_count": 46,
      "metadata": {
        "colab": {
          "base_uri": "https://localhost:8080/"
        },
        "id": "qaYqgbhoPNTG",
        "outputId": "a7c5da68-1615-462b-aa55-6e81306c86e9"
      },
      "outputs": [
        {
          "name": "stdout",
          "output_type": "stream",
          "text": [
            "0.03849999999999998\n"
          ]
        }
      ],
      "source": [
        "# Doing each parameters in single code block just in case I screw something up\n",
        "neigh3uniform1kdtree = KNeighborsClassifier(n_neighbors=7, weights='uniform', p=1, algorithm='kd_tree', n_jobs=-1)\n",
        "neigh3uniform1kdtree.fit(X_train, y_train)\n",
        "print(1.0 - neigh3uniform1kdtree.score(X_test, y_test))"
      ]
    },
    {
      "cell_type": "code",
      "execution_count": 47,
      "metadata": {
        "colab": {
          "base_uri": "https://localhost:8080/"
        },
        "id": "6YFoT4zGGY1Z",
        "outputId": "df3045dd-b753-4862-b187-b47e0930ae58"
      },
      "outputs": [
        {
          "name": "stdout",
          "output_type": "stream",
          "text": [
            "0.03600000000000003\n"
          ]
        }
      ],
      "source": [
        "# Doing each parameters in single code block just in case I screw something up\n",
        "neigh3uniform1kdtree = KNeighborsClassifier(n_neighbors=3, weights='distance', p=1, algorithm='kd_tree', n_jobs=-1)\n",
        "neigh3uniform1kdtree.fit(X_train, y_train)\n",
        "print(1.0 - neigh3uniform1kdtree.score(X_test, y_test))"
      ]
    },
    {
      "cell_type": "code",
      "execution_count": 48,
      "metadata": {
        "colab": {
          "base_uri": "https://localhost:8080/"
        },
        "id": "vFxv4VgcGfIf",
        "outputId": "40cb4fac-5a06-45df-ba9d-c861050a420b"
      },
      "outputs": [
        {
          "name": "stdout",
          "output_type": "stream",
          "text": [
            "0.03600000000000003\n"
          ]
        }
      ],
      "source": [
        "# Doing each parameters in single code block just in case I screw something up\n",
        "neigh3uniform1kdtree = KNeighborsClassifier(n_neighbors=3, weights='distance', p=1, algorithm='ball_tree', n_jobs=-1)\n",
        "neigh3uniform1kdtree.fit(X_train, y_train)\n",
        "print(1.0 - neigh3uniform1kdtree.score(X_test, y_test))"
      ]
    },
    {
      "cell_type": "code",
      "execution_count": 49,
      "metadata": {
        "colab": {
          "base_uri": "https://localhost:8080/"
        },
        "id": "Li1XyyhuGg6k",
        "outputId": "2190a4f2-67af-4bc4-9b87-dab7396fc55f"
      },
      "outputs": [
        {
          "name": "stdout",
          "output_type": "stream",
          "text": [
            "0.03600000000000003\n"
          ]
        }
      ],
      "source": [
        "# Doing each parameters in single code block just in case I screw something up\n",
        "neigh3uniform1kdtree = KNeighborsClassifier(n_neighbors=3, weights='distance', p=1, algorithm='brute', n_jobs=-1)\n",
        "neigh3uniform1kdtree.fit(X_train, y_train)\n",
        "print(1.0 - neigh3uniform1kdtree.score(X_test, y_test))"
      ]
    },
    {
      "cell_type": "code",
      "execution_count": 50,
      "metadata": {
        "colab": {
          "base_uri": "https://localhost:8080/"
        },
        "id": "7ycEA34F2vXR",
        "outputId": "1fe0af07-2e1c-444b-d17d-cd908797e380"
      },
      "outputs": [
        {
          "name": "stdout",
          "output_type": "stream",
          "text": [
            "0.02949999999999997\n"
          ]
        }
      ],
      "source": [
        "# Doing each parameters in single code block just in case I screw something up\n",
        "neigh3uniform1kdtree = KNeighborsClassifier(n_neighbors=3, weights='uniform', p=2, algorithm='brute', n_jobs=-1)\n",
        "neigh3uniform1kdtree.fit(X_train, y_train)\n",
        "print(1.0 - neigh3uniform1kdtree.score(X_test, y_test))"
      ]
    },
    {
      "cell_type": "code",
      "execution_count": 51,
      "metadata": {
        "colab": {
          "base_uri": "https://localhost:8080/"
        },
        "id": "5L3oGXw520fy",
        "outputId": "c17a9647-8168-4c4e-ae2f-56df8bdda35a"
      },
      "outputs": [
        {
          "name": "stdout",
          "output_type": "stream",
          "text": [
            "0.028299999999999992\n"
          ]
        }
      ],
      "source": [
        "# Doing each parameters in single code block just in case I screw something up\n",
        "neigh3uniform1kdtree = KNeighborsClassifier(n_neighbors=3, weights='distance', p=2, algorithm='kd_tree', n_jobs=-1)\n",
        "neigh3uniform1kdtree.fit(X_train, y_train)\n",
        "print(1.0 - neigh3uniform1kdtree.score(X_test, y_test))"
      ]
    },
    {
      "cell_type": "code",
      "execution_count": 52,
      "metadata": {
        "colab": {
          "base_uri": "https://localhost:8080/"
        },
        "id": "k_qk2r0X252I",
        "outputId": "ebfc5ea1-76d7-4b02-fbbc-e24c31687d47"
      },
      "outputs": [
        {
          "name": "stdout",
          "output_type": "stream",
          "text": [
            "0.031200000000000006\n"
          ]
        }
      ],
      "source": [
        "# Doing each parameters in single code block just in case I screw something up\n",
        "neigh3uniform1kdtree = KNeighborsClassifier(n_neighbors=5, weights='uniform', p=2, algorithm='kd_tree', n_jobs=-1)\n",
        "neigh3uniform1kdtree.fit(X_train, y_train)\n",
        "print(1.0 - neigh3uniform1kdtree.score(X_test, y_test))"
      ]
    },
    {
      "cell_type": "code",
      "execution_count": 5,
      "metadata": {
        "colab": {
          "base_uri": "https://localhost:8080/"
        },
        "id": "QX-JDQfyc86g",
        "outputId": "5d5b0321-63c4-4c56-9559-b0d98698078d"
      },
      "outputs": [
        {
          "name": "stdout",
          "output_type": "stream",
          "text": [
            "0.02949999999999997\n"
          ]
        }
      ],
      "source": [
        "# Doing each parameters in single code block just in case I screw something up\n",
        "neigh3uniform1kdtree = KNeighborsClassifier(n_neighbors=3, weights='uniform', p=2, algorithm='kd_tree', n_jobs=-1)\n",
        "neigh3uniform1kdtree.fit(X_train, y_train)\n",
        "print(1.0 - neigh3uniform1kdtree.score(X_test, y_test))"
      ]
    },
    {
      "cell_type": "code",
      "execution_count": 6,
      "metadata": {
        "colab": {
          "base_uri": "https://localhost:8080/"
        },
        "id": "kpWjokXvdZQt",
        "outputId": "6246cbb3-63a8-4f28-ba22-152c89208663"
      },
      "outputs": [
        {
          "name": "stdout",
          "output_type": "stream",
          "text": [
            "0.031200000000000006\n"
          ]
        }
      ],
      "source": [
        "# Doing each parameters in single code block just in case I screw something up\n",
        "neigh3uniform1kdtree = KNeighborsClassifier(n_neighbors=5, weights='uniform', p=2, algorithm='brute', n_jobs=-1)\n",
        "neigh3uniform1kdtree.fit(X_train, y_train)\n",
        "print(1.0 - neigh3uniform1kdtree.score(X_test, y_test))"
      ]
    },
    {
      "cell_type": "code",
      "execution_count": 9,
      "metadata": {
        "colab": {
          "base_uri": "https://localhost:8080/"
        },
        "id": "OIw0Iz6-7rCF",
        "outputId": "1fd192e3-a8b0-4941-cf9e-67e27d082d15"
      },
      "outputs": [
        {
          "name": "stdout",
          "output_type": "stream",
          "text": [
            "0.03059999999999996\n"
          ]
        }
      ],
      "source": [
        "# Doing each parameters in single code block just in case I screw something up\n",
        "neigh3uniform1kdtree = KNeighborsClassifier(n_neighbors=7, weights='uniform', p=2, algorithm='kd_tree', n_jobs=-1)\n",
        "neigh3uniform1kdtree.fit(X_train, y_train)\n",
        "print(1.0 - neigh3uniform1kdtree.score(X_test, y_test))"
      ]
    },
    {
      "cell_type": "code",
      "execution_count": 10,
      "metadata": {
        "colab": {
          "base_uri": "https://localhost:8080/"
        },
        "id": "gcUVSRYg7_xI",
        "outputId": "fc2a7afb-2c6e-44a8-fa0f-47effc4b063e"
      },
      "outputs": [
        {
          "name": "stdout",
          "output_type": "stream",
          "text": [
            "0.03090000000000004\n"
          ]
        }
      ],
      "source": [
        "# Doing each parameters in single code block just in case I screw something up\n",
        "neigh3uniform1kdtree = KNeighborsClassifier(n_neighbors=5, weights='distance', p=2, algorithm='kd_tree', n_jobs=-1)\n",
        "neigh3uniform1kdtree.fit(X_train, y_train)\n",
        "print(1.0 - neigh3uniform1kdtree.score(X_test, y_test))"
      ]
    },
    {
      "cell_type": "code",
      "execution_count": 11,
      "metadata": {
        "colab": {
          "base_uri": "https://localhost:8080/"
        },
        "id": "njffkKCb8CKz",
        "outputId": "e4de3ec4-b089-4411-95c7-479a81559528"
      },
      "outputs": [
        {
          "name": "stdout",
          "output_type": "stream",
          "text": [
            "0.028299999999999992\n"
          ]
        }
      ],
      "source": [
        "# Doing each parameters in single code block just in case I screw something up\n",
        "neigh3uniform1kdtree = KNeighborsClassifier(n_neighbors=3, weights='distance', p=2, algorithm='kd_tree', leaf_size=60, n_jobs=-1)\n",
        "neigh3uniform1kdtree.fit(X_train, y_train)\n",
        "print(1.0 - neigh3uniform1kdtree.score(X_test, y_test))"
      ]
    },
    {
      "cell_type": "code",
      "execution_count": 12,
      "metadata": {
        "colab": {
          "base_uri": "https://localhost:8080/"
        },
        "id": "spz5vgKS8LsI",
        "outputId": "5457cf9e-0859-4dc8-ab76-341abee7170b"
      },
      "outputs": [
        {
          "name": "stdout",
          "output_type": "stream",
          "text": [
            "0.03090000000000004\n"
          ]
        }
      ],
      "source": [
        "# Doing each parameters in single code block just in case I screw something up\n",
        "neigh3uniform1kdtree = KNeighborsClassifier(n_neighbors=5, weights='distance', p=2, algorithm='kd_tree', leaf_size=60, n_jobs=-1)\n",
        "neigh3uniform1kdtree.fit(X_train, y_train)\n",
        "print(1.0 - neigh3uniform1kdtree.score(X_test, y_test))"
      ]
    }
  ],
  "metadata": {
    "colab": {
      "collapsed_sections": [],
      "provenance": []
    },
    "kernelspec": {
      "display_name": "Python 3.8.10 64-bit",
      "language": "python",
      "name": "python3"
    },
    "language_info": {
      "name": "python",
      "version": "3.8.10"
    },
    "vscode": {
      "interpreter": {
        "hash": "916dbcbb3f70747c44a77c7bcd40155683ae19c65e1c03b4aa3499c5328201f1"
      }
    }
  },
  "nbformat": 4,
  "nbformat_minor": 0
}
