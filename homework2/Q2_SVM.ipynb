{
  "cells": [
    {
      "cell_type": "code",
      "execution_count": 1,
      "metadata": {
        "id": "STk2M_cTyGaL"
      },
      "outputs": [],
      "source": [
        "from sklearn import svm\n",
        "from sklearn.datasets import fetch_openml\n",
        "from sklearn import preprocessing\n",
        "import matplotlib\n",
        "import matplotlib.pyplot as matplot"
      ]
    },
    {
      "cell_type": "code",
      "execution_count": 2,
      "metadata": {
        "id": "0WDde1oIyLPQ"
      },
      "outputs": [],
      "source": [
        "x, y = fetch_openml('mnist_784', version=1, return_X_y= True)\n",
        "# norm\n",
        "x = x / 255\n",
        "x_train, x_test = x[:60000], x[60000:]\n",
        "y_train, y_test = y[:60000], y[60000:]"
      ]
    },
    {
      "cell_type": "code",
      "execution_count": 3,
      "metadata": {
        "id": "dpRMWWNfc4fW"
      },
      "outputs": [],
      "source": [
        "x_train = preprocessing.scale(x_train)\n",
        "x_test = preprocessing.scale(x_test)\n",
        "\n",
        "model_and_params = {\n",
        "    svm.SVC:   {\n",
        "        \"c\":  [0.01, 0.1, 1, 10, 100, 500],\n",
        "        \"kernel\": ['linear', 'poly', 'rbf', 'sigmoid', 'precomputed'],\n",
        "        \"class_weight\": 'balanced'\n",
        "    }\n",
        "}"
      ]
    },
    {
      "cell_type": "code",
      "execution_count": 4,
      "metadata": {
        "colab": {
          "base_uri": "https://localhost:8080/",
          "height": 665
        },
        "id": "oZi-8_S_c7Dw",
        "outputId": "c1cf1c1b-26c7-42e8-87cf-09e03356fa32"
      },
      "outputs": [
        {
          "name": "stderr",
          "output_type": "stream",
          "text": [
            "/usr/local/lib/python3.7/dist-packages/sklearn/svm/_base.py:289: ConvergenceWarning: Solver terminated early (max_iter=1000).  Consider pre-processing your data with StandardScaler or MinMaxScaler.\n",
            "  ConvergenceWarning,\n"
          ]
        },
        {
          "name": "stdout",
          "output_type": "stream",
          "text": [
            "0.01 0.9013\n"
          ]
        },
        {
          "name": "stderr",
          "output_type": "stream",
          "text": [
            "/usr/local/lib/python3.7/dist-packages/sklearn/svm/_base.py:289: ConvergenceWarning: Solver terminated early (max_iter=1000).  Consider pre-processing your data with StandardScaler or MinMaxScaler.\n",
            "  ConvergenceWarning,\n"
          ]
        },
        {
          "name": "stdout",
          "output_type": "stream",
          "text": [
            "0.1 0.9008\n"
          ]
        },
        {
          "name": "stderr",
          "output_type": "stream",
          "text": [
            "/usr/local/lib/python3.7/dist-packages/sklearn/svm/_base.py:289: ConvergenceWarning: Solver terminated early (max_iter=1000).  Consider pre-processing your data with StandardScaler or MinMaxScaler.\n",
            "  ConvergenceWarning,\n"
          ]
        },
        {
          "name": "stdout",
          "output_type": "stream",
          "text": [
            "1 0.4244\n"
          ]
        },
        {
          "name": "stderr",
          "output_type": "stream",
          "text": [
            "/usr/local/lib/python3.7/dist-packages/sklearn/svm/_base.py:289: ConvergenceWarning: Solver terminated early (max_iter=1000).  Consider pre-processing your data with StandardScaler or MinMaxScaler.\n",
            "  ConvergenceWarning,\n"
          ]
        },
        {
          "name": "stdout",
          "output_type": "stream",
          "text": [
            "10 0.02949999999999997\n"
          ]
        },
        {
          "name": "stderr",
          "output_type": "stream",
          "text": [
            "/usr/local/lib/python3.7/dist-packages/sklearn/svm/_base.py:289: ConvergenceWarning: Solver terminated early (max_iter=1000).  Consider pre-processing your data with StandardScaler or MinMaxScaler.\n",
            "  ConvergenceWarning,\n"
          ]
        },
        {
          "name": "stdout",
          "output_type": "stream",
          "text": [
            "100 0.025599999999999956\n"
          ]
        },
        {
          "name": "stderr",
          "output_type": "stream",
          "text": [
            "/usr/local/lib/python3.7/dist-packages/sklearn/svm/_base.py:289: ConvergenceWarning: Solver terminated early (max_iter=1000).  Consider pre-processing your data with StandardScaler or MinMaxScaler.\n",
            "  ConvergenceWarning,\n"
          ]
        },
        {
          "name": "stdout",
          "output_type": "stream",
          "text": [
            "500 0.025399999999999978\n"
          ]
        },
        {
          "data": {
            "image/png": "[encoded data removed]",
            "text/plain": [
              "<Figure size 720x360 with 1 Axes>"
            ]
          },
          "metadata": {
            "needs_background": "light"
          },
          "output_type": "display_data"
        }
      ],
      "source": [
        "rbf_results = {}\n",
        "for k, v in model_and_params.items():\n",
        "    for c in model_and_params[k][\"c\"]:\n",
        "        rbf_results.setdefault(c, {})\n",
        "        mds = svm.SVC(C=c, kernel='poly', class_weight=model_and_params[k][\"class_weight\"], max_iter=1000, cache_size=10000)\n",
        "        mds.fit(x_train, y_train)\n",
        "        err = 1 - mds.score(x_test, y_test)\n",
        "        print(c, err)\n",
        "        rbf_results[c] = err\n",
        "\n",
        "matplot.subplots(figsize=(10, 5))\n",
        "matplot.semilogx(list(rbf_results.keys()), list(rbf_results.values()), '-gD', color='red', label=\"Testing Accuracy\")\n",
        "#matplot.semilogx(rbf_results.keys(), rbf_results.values(),'-gD' , label=\"Training Accuracy\")\n",
        "#matplot.xticks(L,L)\n",
        "matplot.grid(True)\n",
        "matplot.xlabel(\"Cost Parameter C\")\n",
        "matplot.ylabel(\"Accuracy\")\n",
        "matplot.legend()\n",
        "matplot.title('Accuracy versus the Cost Parameter C (log-scale)')\n",
        "matplot.show()"
      ]
    },
    {
      "cell_type": "code",
      "execution_count": 5,
      "metadata": {
        "colab": {
          "base_uri": "https://localhost:8080/",
          "height": 665
        },
        "id": "BGVr595LyM9Y",
        "outputId": "637cd0e1-c4a4-4de6-d133-e22f640889f1"
      },
      "outputs": [
        {
          "name": "stderr",
          "output_type": "stream",
          "text": [
            "/usr/local/lib/python3.7/dist-packages/sklearn/svm/_base.py:289: ConvergenceWarning: Solver terminated early (max_iter=1000).  Consider pre-processing your data with StandardScaler or MinMaxScaler.\n",
            "  ConvergenceWarning,\n"
          ]
        },
        {
          "name": "stdout",
          "output_type": "stream",
          "text": [
            "0.01 0.0595\n"
          ]
        },
        {
          "name": "stderr",
          "output_type": "stream",
          "text": [
            "/usr/local/lib/python3.7/dist-packages/sklearn/svm/_base.py:289: ConvergenceWarning: Solver terminated early (max_iter=1000).  Consider pre-processing your data with StandardScaler or MinMaxScaler.\n",
            "  ConvergenceWarning,\n"
          ]
        },
        {
          "name": "stdout",
          "output_type": "stream",
          "text": [
            "0.1 0.17779999999999996\n"
          ]
        },
        {
          "name": "stderr",
          "output_type": "stream",
          "text": [
            "/usr/local/lib/python3.7/dist-packages/sklearn/svm/_base.py:289: ConvergenceWarning: Solver terminated early (max_iter=1000).  Consider pre-processing your data with StandardScaler or MinMaxScaler.\n",
            "  ConvergenceWarning,\n"
          ]
        },
        {
          "name": "stdout",
          "output_type": "stream",
          "text": [
            "1 0.1936\n"
          ]
        },
        {
          "name": "stderr",
          "output_type": "stream",
          "text": [
            "/usr/local/lib/python3.7/dist-packages/sklearn/svm/_base.py:289: ConvergenceWarning: Solver terminated early (max_iter=1000).  Consider pre-processing your data with StandardScaler or MinMaxScaler.\n",
            "  ConvergenceWarning,\n"
          ]
        },
        {
          "name": "stdout",
          "output_type": "stream",
          "text": [
            "10 0.1936\n"
          ]
        },
        {
          "name": "stderr",
          "output_type": "stream",
          "text": [
            "/usr/local/lib/python3.7/dist-packages/sklearn/svm/_base.py:289: ConvergenceWarning: Solver terminated early (max_iter=1000).  Consider pre-processing your data with StandardScaler or MinMaxScaler.\n",
            "  ConvergenceWarning,\n"
          ]
        },
        {
          "name": "stdout",
          "output_type": "stream",
          "text": [
            "100 0.1936\n"
          ]
        },
        {
          "name": "stderr",
          "output_type": "stream",
          "text": [
            "/usr/local/lib/python3.7/dist-packages/sklearn/svm/_base.py:289: ConvergenceWarning: Solver terminated early (max_iter=1000).  Consider pre-processing your data with StandardScaler or MinMaxScaler.\n",
            "  ConvergenceWarning,\n"
          ]
        },
        {
          "name": "stdout",
          "output_type": "stream",
          "text": [
            "500 0.1936\n"
          ]
        },
        {
          "data": {
            "image/png": "[encoded data removed]",
            "text/plain": [
              "<Figure size 720x360 with 1 Axes>"
            ]
          },
          "metadata": {
            "needs_background": "light"
          },
          "output_type": "display_data"
        }
      ],
      "source": [
        "rbf_results = {}\n",
        "for k, v in model_and_params.items():\n",
        "    for c in model_and_params[k][\"c\"]:\n",
        "        rbf_results.setdefault(c, {})\n",
        "        mds = svm.SVC(C=c, kernel='linear', class_weight=model_and_params[k][\"class_weight\"], max_iter=1000, cache_size=10000)\n",
        "        mds.fit(x_train, y_train)\n",
        "        err = 1 - mds.score(x_test, y_test)\n",
        "        print(c, err)\n",
        "        rbf_results[c] = err\n",
        "matplot.subplots(figsize=(10, 5))\n",
        "matplot.semilogx(list(rbf_results.keys()), list(rbf_results.values()), '-gD', color='red', label=\"Testing Accuracy\")\n",
        "#matplot.semilogx(rbf_results.keys(), rbf_results.values(),'-gD' , label=\"Training Accuracy\")\n",
        "#matplot.xticks(L,L)\n",
        "matplot.grid(True)\n",
        "matplot.xlabel(\"Cost Parameter C\")\n",
        "matplot.ylabel(\"Accuracy\")\n",
        "matplot.legend()\n",
        "matplot.title('Accuracy versus the Cost Parameter C (log-scale)')\n",
        "matplot.show()"
      ]
    },
    {
      "cell_type": "code",
      "execution_count": 6,
      "metadata": {
        "colab": {
          "base_uri": "https://localhost:8080/",
          "height": 665
        },
        "id": "Hk_JJBeRxduZ",
        "outputId": "5183b49a-02e6-444b-f9eb-a52e183c7af2"
      },
      "outputs": [
        {
          "name": "stderr",
          "output_type": "stream",
          "text": [
            "/usr/local/lib/python3.7/dist-packages/sklearn/svm/_base.py:289: ConvergenceWarning: Solver terminated early (max_iter=1000).  Consider pre-processing your data with StandardScaler or MinMaxScaler.\n",
            "  ConvergenceWarning,\n"
          ]
        },
        {
          "name": "stdout",
          "output_type": "stream",
          "text": [
            "0.01 0.8144\n"
          ]
        },
        {
          "name": "stderr",
          "output_type": "stream",
          "text": [
            "/usr/local/lib/python3.7/dist-packages/sklearn/svm/_base.py:289: ConvergenceWarning: Solver terminated early (max_iter=1000).  Consider pre-processing your data with StandardScaler or MinMaxScaler.\n",
            "  ConvergenceWarning,\n"
          ]
        },
        {
          "name": "stdout",
          "output_type": "stream",
          "text": [
            "0.1 0.31089999999999995\n"
          ]
        },
        {
          "name": "stderr",
          "output_type": "stream",
          "text": [
            "/usr/local/lib/python3.7/dist-packages/sklearn/svm/_base.py:289: ConvergenceWarning: Solver terminated early (max_iter=1000).  Consider pre-processing your data with StandardScaler or MinMaxScaler.\n",
            "  ConvergenceWarning,\n"
          ]
        },
        {
          "name": "stdout",
          "output_type": "stream",
          "text": [
            "1 0.03510000000000002\n"
          ]
        },
        {
          "name": "stderr",
          "output_type": "stream",
          "text": [
            "/usr/local/lib/python3.7/dist-packages/sklearn/svm/_base.py:289: ConvergenceWarning: Solver terminated early (max_iter=1000).  Consider pre-processing your data with StandardScaler or MinMaxScaler.\n",
            "  ConvergenceWarning,\n"
          ]
        },
        {
          "name": "stdout",
          "output_type": "stream",
          "text": [
            "10 0.02749999999999997\n"
          ]
        },
        {
          "name": "stderr",
          "output_type": "stream",
          "text": [
            "/usr/local/lib/python3.7/dist-packages/sklearn/svm/_base.py:289: ConvergenceWarning: Solver terminated early (max_iter=1000).  Consider pre-processing your data with StandardScaler or MinMaxScaler.\n",
            "  ConvergenceWarning,\n"
          ]
        },
        {
          "name": "stdout",
          "output_type": "stream",
          "text": [
            "100 0.028200000000000003\n"
          ]
        },
        {
          "name": "stderr",
          "output_type": "stream",
          "text": [
            "/usr/local/lib/python3.7/dist-packages/sklearn/svm/_base.py:289: ConvergenceWarning: Solver terminated early (max_iter=1000).  Consider pre-processing your data with StandardScaler or MinMaxScaler.\n",
            "  ConvergenceWarning,\n"
          ]
        },
        {
          "name": "stdout",
          "output_type": "stream",
          "text": [
            "500 0.028200000000000003\n"
          ]
        },
        {
          "data": {
            "image/png": "[encoded data removed]",
            "text/plain": [
              "<Figure size 720x360 with 1 Axes>"
            ]
          },
          "metadata": {
            "needs_background": "light"
          },
          "output_type": "display_data"
        }
      ],
      "source": [
        "rbf_results = {}\n",
        "for k, v in model_and_params.items():\n",
        "    for c in model_and_params[k][\"c\"]:\n",
        "        rbf_results.setdefault(c, {})\n",
        "        mds = svm.SVC(C=c, kernel='rbf', class_weight=model_and_params[k][\"class_weight\"], max_iter=1000, cache_size=10000)\n",
        "        mds.fit(x_train, y_train)\n",
        "        err = 1 - mds.score(x_test, y_test)\n",
        "        print(c, err)\n",
        "        rbf_results[c] = err\n",
        "matplot.subplots(figsize=(10, 5))\n",
        "matplot.semilogx(list(rbf_results.keys()), list(rbf_results.values()), '-gD', color='red', label=\"Testing Accuracy\")\n",
        "#matplot.semilogx(rbf_results.keys(), rbf_results.values(),'-gD' , label=\"Training Accuracy\")\n",
        "#matplot.xticks(L,L)\n",
        "matplot.grid(True)\n",
        "matplot.xlabel(\"Cost Parameter C\")\n",
        "matplot.ylabel(\"Accuracy\")\n",
        "matplot.legend()\n",
        "matplot.title('Accuracy versus the Cost Parameter C (log-scale)')\n",
        "matplot.show()"
      ]
    },
    {
      "cell_type": "code",
      "execution_count": 7,
      "metadata": {
        "colab": {
          "base_uri": "https://localhost:8080/",
          "height": 665
        },
        "id": "cNR-0L36zy6d",
        "outputId": "0a321d1f-7113-42e4-d630-8d0654487476"
      },
      "outputs": [
        {
          "name": "stderr",
          "output_type": "stream",
          "text": [
            "/usr/local/lib/python3.7/dist-packages/sklearn/svm/_base.py:289: ConvergenceWarning: Solver terminated early (max_iter=1000).  Consider pre-processing your data with StandardScaler or MinMaxScaler.\n",
            "  ConvergenceWarning,\n"
          ]
        },
        {
          "name": "stdout",
          "output_type": "stream",
          "text": [
            "0.01 0.8987\n"
          ]
        },
        {
          "name": "stderr",
          "output_type": "stream",
          "text": [
            "/usr/local/lib/python3.7/dist-packages/sklearn/svm/_base.py:289: ConvergenceWarning: Solver terminated early (max_iter=1000).  Consider pre-processing your data with StandardScaler or MinMaxScaler.\n",
            "  ConvergenceWarning,\n"
          ]
        },
        {
          "name": "stdout",
          "output_type": "stream",
          "text": [
            "0.1 0.40390000000000004\n"
          ]
        },
        {
          "name": "stderr",
          "output_type": "stream",
          "text": [
            "/usr/local/lib/python3.7/dist-packages/sklearn/svm/_base.py:289: ConvergenceWarning: Solver terminated early (max_iter=1000).  Consider pre-processing your data with StandardScaler or MinMaxScaler.\n",
            "  ConvergenceWarning,\n"
          ]
        },
        {
          "name": "stdout",
          "output_type": "stream",
          "text": [
            "1 0.12839999999999996\n"
          ]
        },
        {
          "name": "stderr",
          "output_type": "stream",
          "text": [
            "/usr/local/lib/python3.7/dist-packages/sklearn/svm/_base.py:289: ConvergenceWarning: Solver terminated early (max_iter=1000).  Consider pre-processing your data with StandardScaler or MinMaxScaler.\n",
            "  ConvergenceWarning,\n"
          ]
        },
        {
          "name": "stdout",
          "output_type": "stream",
          "text": [
            "10 0.1371\n"
          ]
        },
        {
          "name": "stderr",
          "output_type": "stream",
          "text": [
            "/usr/local/lib/python3.7/dist-packages/sklearn/svm/_base.py:289: ConvergenceWarning: Solver terminated early (max_iter=1000).  Consider pre-processing your data with StandardScaler or MinMaxScaler.\n",
            "  ConvergenceWarning,\n"
          ]
        },
        {
          "name": "stdout",
          "output_type": "stream",
          "text": [
            "100 0.14190000000000003\n"
          ]
        },
        {
          "name": "stderr",
          "output_type": "stream",
          "text": [
            "/usr/local/lib/python3.7/dist-packages/sklearn/svm/_base.py:289: ConvergenceWarning: Solver terminated early (max_iter=1000).  Consider pre-processing your data with StandardScaler or MinMaxScaler.\n",
            "  ConvergenceWarning,\n"
          ]
        },
        {
          "name": "stdout",
          "output_type": "stream",
          "text": [
            "500 0.14090000000000003\n"
          ]
        },
        {
          "data": {
            "image/png": "[encoded data removed]",
            "text/plain": [
              "<Figure size 720x360 with 1 Axes>"
            ]
          },
          "metadata": {
            "needs_background": "light"
          },
          "output_type": "display_data"
        }
      ],
      "source": [
        "rbf_results = {}\n",
        "for k, v in model_and_params.items():\n",
        "    for c in model_and_params[k][\"c\"]:\n",
        "        rbf_results.setdefault(c, {})\n",
        "        mds = svm.SVC(C=c, kernel='sigmoid', class_weight=model_and_params[k][\"class_weight\"], max_iter=1000, cache_size=10000)\n",
        "        mds.fit(x_train, y_train)\n",
        "        err = 1 - mds.score(x_test, y_test)\n",
        "        print(c, err)\n",
        "        rbf_results[c] = err\n",
        "matplot.subplots(figsize=(10, 5))\n",
        "matplot.semilogx(list(rbf_results.keys()), list(rbf_results.values()), '-gD', color='red', label=\"Testing Accuracy\")\n",
        "#matplot.semilogx(rbf_results.keys(), rbf_results.values(),'-gD' , label=\"Training Accuracy\")\n",
        "#matplot.xticks(L,L)\n",
        "matplot.grid(True)\n",
        "matplot.xlabel(\"Cost Parameter C\")\n",
        "matplot.ylabel(\"Accuracy\")\n",
        "matplot.legend()\n",
        "matplot.title('Accuracy versus the Cost Parameter C (log-scale)')\n",
        "matplot.show()"
      ]
    },
    {
      "cell_type": "code",
      "execution_count": 5,
      "metadata": {
        "colab": {
          "base_uri": "https://localhost:8080/"
        },
        "id": "9S4KpIulKeD-",
        "outputId": "67021ad6-f592-4b68-d128-fd012626db2c"
      },
      "outputs": [
        {
          "name": "stderr",
          "output_type": "stream",
          "text": [
            "/usr/local/lib/python3.7/dist-packages/sklearn/svm/_base.py:289: ConvergenceWarning: Solver terminated early (max_iter=1000).  Consider pre-processing your data with StandardScaler or MinMaxScaler.\n",
            "  ConvergenceWarning,\n"
          ]
        },
        {
          "name": "stdout",
          "output_type": "stream",
          "text": [
            "0.025399999999999978\n"
          ]
        }
      ],
      "source": [
        "# poly kernel showed promising results, so doing further analysis\n",
        "mds = svm.SVC(C=1000, kernel='poly', max_iter=1000, cache_size=10000)\n",
        "mds.fit(x_train, y_train)\n",
        "print(1 - mds.score(x_test, y_test))"
      ]
    },
    {
      "cell_type": "code",
      "execution_count": 6,
      "metadata": {
        "colab": {
          "base_uri": "https://localhost:8080/"
        },
        "id": "rKUPSmdNK9fw",
        "outputId": "e3c02000-c82e-42e1-fed0-1fe3aa527bf1"
      },
      "outputs": [
        {
          "name": "stderr",
          "output_type": "stream",
          "text": [
            "/usr/local/lib/python3.7/dist-packages/sklearn/svm/_base.py:289: ConvergenceWarning: Solver terminated early (max_iter=1000).  Consider pre-processing your data with StandardScaler or MinMaxScaler.\n",
            "  ConvergenceWarning,\n"
          ]
        },
        {
          "name": "stdout",
          "output_type": "stream",
          "text": [
            "0.053100000000000036\n"
          ]
        }
      ],
      "source": [
        "mds = svm.SVC(C=500, kernel='poly', degree=4, max_iter=1000, cache_size=10000)\n",
        "mds.fit(x_train, y_train)\n",
        "print(1 - mds.score(x_test, y_test))"
      ]
    },
    {
      "cell_type": "code",
      "execution_count": 7,
      "metadata": {
        "colab": {
          "base_uri": "https://localhost:8080/"
        },
        "id": "byL6XiuWSD6r",
        "outputId": "49972085-26cc-490f-c14b-de7a23d8a846"
      },
      "outputs": [
        {
          "name": "stderr",
          "output_type": "stream",
          "text": [
            "/usr/local/lib/python3.7/dist-packages/sklearn/svm/_base.py:289: ConvergenceWarning: Solver terminated early (max_iter=2000).  Consider pre-processing your data with StandardScaler or MinMaxScaler.\n",
            "  ConvergenceWarning,\n"
          ]
        },
        {
          "name": "stdout",
          "output_type": "stream",
          "text": [
            "0.022199999999999998\n"
          ]
        }
      ],
      "source": [
        "mds = svm.SVC(C=1000, kernel='poly', max_iter=2000, cache_size=10000)\n",
        "mds.fit(x_train, y_train)\n",
        "print(1 - mds.score(x_test, y_test))"
      ]
    }
  ],
  "metadata": {
    "colab": {
      "collapsed_sections": [],
      "provenance": []
    },
    "kernelspec": {
      "display_name": "Python 3.8.10 64-bit",
      "language": "python",
      "name": "python3"
    },
    "language_info": {
      "name": "python",
      "version": "3.8.10"
    },
    "vscode": {
      "interpreter": {
        "hash": "916dbcbb3f70747c44a77c7bcd40155683ae19c65e1c03b4aa3499c5328201f1"
      }
    }
  },
  "nbformat": 4,
  "nbformat_minor": 0
}
